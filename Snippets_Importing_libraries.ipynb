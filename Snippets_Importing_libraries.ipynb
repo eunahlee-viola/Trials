!pip install python-pptx matplotlib

from pptx import Presentation
from pptx.util import Inches
import matplotlib.pyplot as plt

# 데이터
stages = ["Seed~A 단계", "Series B 단계", "Pre-IPO 단계"]
rd_ratio = [75, 60, 40]
bd_ratio = [25, 40, 60]

# 그래프 생성
plt.figure(figsize=(6,4))
plt.plot(stages, rd_ratio, marker="o", label="연구부서 (R&D)", color="blue")
plt.plot(stages, bd_ratio, marker="o", label="경영/BD", color="darkred")
plt.fill_between(stages, rd_ratio, bd_ratio, color="lightgrey", alpha=0.3)
plt.title("신생 벤처의 L/O 전략 인력구성 로드맵", fontsize=12, fontweight="bold")
plt.ylabel("비율 (%)")
plt.legend()
plt.grid(True, linestyle="--", alpha=0.6)
plt.ylim(0,100)
plt.tight_layout()
plt.savefig("lo_strategy_chart.png", dpi=300)
plt.close()

# PPT 생성
prs = Presentation()
title_slide_layout = prs.slide_layouts[0]
content_slide_layout = prs.slide_layouts[5]

# 제목 슬라이드
slide = prs.slides.add_slide(title_slide_layout)
slide.shapes.title.text = "신생 벤처 L/O 전략 인력구성 로드맵"
slide.placeholders[1].text = "연구 vs 경영/BD 비율 변화"

# 그래프 슬라이드
slide = prs.slides.add_slide(content_slide_layout)
slide.shapes.title.text = "단계별 인력 비율"
slide.shapes.add_picture("lo_strategy_chart.png", Inches(1), Inches(1.5), width=Inches(6))

# 표 슬라이드
slide = prs.slides.add_slide(content_slide_layout)
slide.shapes.title.text = "단계별 권장 비율 요약"
rows, cols = 4, 4
table = slide.shapes.add_table(rows, cols, Inches(0.5), Inches(1.5), Inches(8.5), Inches(2.0)).table
table.cell(0,0).text, table.cell(0,1).text, table.cell(0,2).text, table.cell(0,3).text = "단계","연구부서(R&D)","경영/BD","특징"
table.cell(1,0).text, table.cell(1,1).text, table.cell(1,2).text, table.cell(1,3).text = "Seed~A","70~80%","20~30%","기술 POC 확보 중심"
table.cell(2,0).text, table.cell(2,1).text, table.cell(2,2).text, table.cell(2,3).text = "Series B","60%","40%","기술 검증 + 글로벌 파트너링"
table.cell(3,0).text, table.cell(3,1).text, table.cell(3,2).text, table.cell(3,3).text = "Pre-IPO","40%","60%","L/O 협상과 자금조달 중심"

# 저장
prs.save("lo_strategy_roadmap.pptx")
print("✅ lo_strategy_roadmap.pptx 파일이 생성되었습니다!")


from google.colab import files
files.download("lo_strategy_roadmap.pptx")
